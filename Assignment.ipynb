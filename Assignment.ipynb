{
 "cells": [
  {
   "cell_type": "code",
   "execution_count": null,
   "id": "ccdf6e6a-5407-4280-9e9b-a4c307ecd7e5",
   "metadata": {},
   "outputs": [
    {
     "name": "stdin",
     "output_type": "stream",
     "text": [
      "Enter password type (memorable/random):  memorable\n",
      "Enter number of words for the memorable password:  4\n"
     ]
    }
   ],
   "source": [
    "import os\n",
    "import random\n",
    "import string\n",
    "from datetime import datetime\n",
    "\n",
    "# Function to generate memorable passwords\n",
    "def generate_memorable_password(num_words, cases):\n",
    "    # Load the list of words\n",
    "    with open('top_english_nouns_lower_100000.txt', 'r') as file:\n",
    "        words = file.read().splitlines()\n",
    "    \n",
    "    # Generate the memorable password\n",
    "    password_words = random.sample(words, num_words)\n",
    "    password_parts = []\n",
    "    for word in password_words:\n",
    "        if 'upper' in cases:\n",
    "            word = word.capitalize()\n",
    "        if 'lower' in cases:\n",
    "            word = word.lower()\n",
    "        number = random.randint(0, 9)\n",
    "        password_parts.append(f\"{word}{number}\")\n",
    "    memorable_password = '-'.join(password_parts)\n",
    "    \n",
    "    return memorable_password\n",
    "\n",
    "# Function to generate random passwords\n",
    "def generate_random_password(length, include_punctuation, forbidden_chars):\n",
    "    # Define the characters to use\n",
    "    char_set = string.ascii_letters + string.digits\n",
    "    if include_punctuation:\n",
    "        char_set += string.punctuation\n",
    "\n",
    "    # Remove forbidden characters\n",
    "    char_set = ''.join(c for c in char_set if c not in forbidden_chars)\n",
    "\n",
    "    # Generate the random password\n",
    "    password = ''.join(random.choice(char_set) for _ in range(length))\n",
    "    \n",
    "    return password\n",
    "\n",
    "# Function to save the password to a file\n",
    "def save_password(password, password_type):\n",
    "    dir_path = f'./{password_type.capitalize()}'\n",
    "    file_path = os.path.join(dir_path, 'Generated_Passwords.txt')\n",
    "    \n",
    "    # Create directory if it doesn't exist\n",
    "    if not os.path.exists(dir_path):\n",
    "        os.makedirs(dir_path)\n",
    "    \n",
    "    # Write to file\n",
    "    with open(file_path, 'a') as file:\n",
    "        now = datetime.now().strftime('%Y-%m-%d %H:%M:%S')\n",
    "        file.write(f\"{password} | {now}\\n\")\n",
    "\n",
    "# Main function to choose password type and generate\n",
    "def main():\n",
    "    password_type = input(\"Enter password type (memorable/random): \").strip().lower()\n",
    "    \n",
    "    if password_type == 'memorable':\n",
    "        num_words = int(input(\"Enter number of words for the memorable password: \"))\n",
    "        cases = input(\"Enter cases for the words (lower/upper/both): \").strip().lower().split('/')\n",
    "        password = generate_memorable_password(num_words, cases)\n",
    "    \n",
    "    elif password_type == 'random':\n",
    "        length = int(input(\"Enter length of the random password: \"))\n",
    "        include_punctuation = input(\"Include punctuation? (yes/no): \").strip().lower() == 'yes'\n",
    "        forbidden_chars = input(\"Enter forbidden characters (leave empty if none): \").strip()\n",
    "        password = generate_random_password(length, include_punctuation, forbidden_chars)\n",
    "    \n",
    "    else:\n",
    "        print(\"Invalid password type.\")\n",
    "        return\n",
    "    \n",
    "    save_password(password, password_type)\n",
    "    print(f\"Generated {password_type} password: {password}\")\n",
    "\n",
    "if __name__ == \"__main__\":\n",
    "    main()\n"
   ]
  },
  {
   "cell_type": "code",
   "execution_count": null,
   "id": "35bc2204-a3dd-427b-a2a1-af8043a1d4b8",
   "metadata": {},
   "outputs": [],
   "source": []
  }
 ],
 "metadata": {
  "kernelspec": {
   "display_name": "Python 3 (ipykernel)",
   "language": "python",
   "name": "python3"
  },
  "language_info": {
   "codemirror_mode": {
    "name": "ipython",
    "version": 3
   },
   "file_extension": ".py",
   "mimetype": "text/x-python",
   "name": "python",
   "nbconvert_exporter": "python",
   "pygments_lexer": "ipython3",
   "version": "3.11.5"
  }
 },
 "nbformat": 4,
 "nbformat_minor": 5
}
